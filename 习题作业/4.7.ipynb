{
 "cells": [
  {
   "cell_type": "code",
   "execution_count": 1,
   "metadata": {},
   "outputs": [],
   "source": [
    "import numpy as np\n",
    "import pandas as pd\n",
    "import pylab as plt"
   ]
  },
  {
   "cell_type": "code",
   "execution_count": 2,
   "metadata": {},
   "outputs": [
    {
     "data": {
      "text/html": [
       "<div>\n",
       "<style scoped>\n",
       "    .dataframe tbody tr th:only-of-type {\n",
       "        vertical-align: middle;\n",
       "    }\n",
       "\n",
       "    .dataframe tbody tr th {\n",
       "        vertical-align: top;\n",
       "    }\n",
       "\n",
       "    .dataframe thead th {\n",
       "        text-align: right;\n",
       "    }\n",
       "</style>\n",
       "<table border=\"1\" class=\"dataframe\">\n",
       "  <thead>\n",
       "    <tr style=\"text-align: right;\">\n",
       "      <th></th>\n",
       "      <th>I1</th>\n",
       "      <th>I2</th>\n",
       "      <th>I3</th>\n",
       "      <th>I4</th>\n",
       "      <th>I5</th>\n",
       "    </tr>\n",
       "  </thead>\n",
       "  <tbody>\n",
       "    <tr>\n",
       "      <td>1</td>\n",
       "      <td>11.0</td>\n",
       "      <td>18.0</td>\n",
       "      <td>15.0</td>\n",
       "      <td>18.0</td>\n",
       "      <td>15.0</td>\n",
       "    </tr>\n",
       "    <tr>\n",
       "      <td>2</td>\n",
       "      <td>33.0</td>\n",
       "      <td>27.0</td>\n",
       "      <td>31.0</td>\n",
       "      <td>21.0</td>\n",
       "      <td>17.0</td>\n",
       "    </tr>\n",
       "    <tr>\n",
       "      <td>3</td>\n",
       "      <td>20.0</td>\n",
       "      <td>28.0</td>\n",
       "      <td>27.0</td>\n",
       "      <td>23.0</td>\n",
       "      <td>19.0</td>\n",
       "    </tr>\n",
       "    <tr>\n",
       "      <td>4</td>\n",
       "      <td>18.0</td>\n",
       "      <td>26.0</td>\n",
       "      <td>18.0</td>\n",
       "      <td>18.0</td>\n",
       "      <td>9.0</td>\n",
       "    </tr>\n",
       "    <tr>\n",
       "      <td>5</td>\n",
       "      <td>22.0</td>\n",
       "      <td>23.0</td>\n",
       "      <td>22.0</td>\n",
       "      <td>16.0</td>\n",
       "      <td>10.0</td>\n",
       "    </tr>\n",
       "    <tr>\n",
       "      <td>Mean</td>\n",
       "      <td>20.8</td>\n",
       "      <td>24.4</td>\n",
       "      <td>22.6</td>\n",
       "      <td>19.2</td>\n",
       "      <td>14.0</td>\n",
       "    </tr>\n",
       "  </tbody>\n",
       "</table>\n",
       "</div>"
      ],
      "text/plain": [
       "        I1    I2    I3    I4    I5\n",
       "1     11.0  18.0  15.0  18.0  15.0\n",
       "2     33.0  27.0  31.0  21.0  17.0\n",
       "3     20.0  28.0  27.0  23.0  19.0\n",
       "4     18.0  26.0  18.0  18.0   9.0\n",
       "5     22.0  23.0  22.0  16.0  10.0\n",
       "Mean  20.8  24.4  22.6  19.2  14.0"
      ]
     },
     "execution_count": 2,
     "metadata": {},
     "output_type": "execute_result"
    }
   ],
   "source": [
    "#写入甲的数据\n",
    "\n",
    "jia = np.array([[11,18,15,18,15],[33,27,31,21,17],\n",
    "                [20,28,27,23,19],[18,26,18,18,9],\n",
    "                [22,23,22,16,10],[20.8,24.4,22.6,19.2,14.0]])\n",
    "jia_data = pd.DataFrame(jia,columns=['I1','I2','I3','I4','I5'],\n",
    "                        index=['1','2','3','4','5','Mean'])\n",
    "jia_data"
   ]
  },
  {
   "cell_type": "code",
   "execution_count": 3,
   "metadata": {},
   "outputs": [
    {
     "data": {
      "text/html": [
       "<div>\n",
       "<style scoped>\n",
       "    .dataframe tbody tr th:only-of-type {\n",
       "        vertical-align: middle;\n",
       "    }\n",
       "\n",
       "    .dataframe tbody tr th {\n",
       "        vertical-align: top;\n",
       "    }\n",
       "\n",
       "    .dataframe thead th {\n",
       "        text-align: right;\n",
       "    }\n",
       "</style>\n",
       "<table border=\"1\" class=\"dataframe\">\n",
       "  <thead>\n",
       "    <tr style=\"text-align: right;\">\n",
       "      <th></th>\n",
       "      <th>I1</th>\n",
       "      <th>I2</th>\n",
       "      <th>I3</th>\n",
       "      <th>I4</th>\n",
       "      <th>I5</th>\n",
       "    </tr>\n",
       "  </thead>\n",
       "  <tbody>\n",
       "    <tr>\n",
       "      <td>1</td>\n",
       "      <td>18.0</td>\n",
       "      <td>17.0</td>\n",
       "      <td>20.0</td>\n",
       "      <td>18.0</td>\n",
       "      <td>18.0</td>\n",
       "    </tr>\n",
       "    <tr>\n",
       "      <td>2</td>\n",
       "      <td>31.0</td>\n",
       "      <td>24.0</td>\n",
       "      <td>31.0</td>\n",
       "      <td>26.0</td>\n",
       "      <td>20.0</td>\n",
       "    </tr>\n",
       "    <tr>\n",
       "      <td>3</td>\n",
       "      <td>14.0</td>\n",
       "      <td>16.0</td>\n",
       "      <td>17.0</td>\n",
       "      <td>20.0</td>\n",
       "      <td>17.0</td>\n",
       "    </tr>\n",
       "    <tr>\n",
       "      <td>4</td>\n",
       "      <td>25.0</td>\n",
       "      <td>24.0</td>\n",
       "      <td>31.0</td>\n",
       "      <td>26.0</td>\n",
       "      <td>28.0</td>\n",
       "    </tr>\n",
       "    <tr>\n",
       "      <td>5</td>\n",
       "      <td>36.0</td>\n",
       "      <td>28.0</td>\n",
       "      <td>24.0</td>\n",
       "      <td>26.0</td>\n",
       "      <td>29.0</td>\n",
       "    </tr>\n",
       "    <tr>\n",
       "      <td>Mean</td>\n",
       "      <td>24.8</td>\n",
       "      <td>21.8</td>\n",
       "      <td>24.6</td>\n",
       "      <td>23.2</td>\n",
       "      <td>20.4</td>\n",
       "    </tr>\n",
       "  </tbody>\n",
       "</table>\n",
       "</div>"
      ],
      "text/plain": [
       "        I1    I2    I3    I4    I5\n",
       "1     18.0  17.0  20.0  18.0  18.0\n",
       "2     31.0  24.0  31.0  26.0  20.0\n",
       "3     14.0  16.0  17.0  20.0  17.0\n",
       "4     25.0  24.0  31.0  26.0  28.0\n",
       "5     36.0  28.0  24.0  26.0  29.0\n",
       "Mean  24.8  21.8  24.6  23.2  20.4"
      ]
     },
     "execution_count": 3,
     "metadata": {},
     "output_type": "execute_result"
    }
   ],
   "source": [
    "#写入乙的数据\n",
    "\n",
    "yi = np.array([[18,17,20,18,18],[31,24,31,26,20],\n",
    "              [14,16,17,20,17],[25,24,31,26,28],\n",
    "              [36,28,24,26,29],[24.8,21.8,24.6,23.2,20.4]])\n",
    "yi_data = pd.DataFrame(yi,columns=['I1','I2','I3','I4','I5'],\n",
    "                        index=['1','2','3','4','5','Mean'])\n",
    "yi_data"
   ]
  },
  {
   "cell_type": "code",
   "execution_count": 4,
   "metadata": {},
   "outputs": [
    {
     "name": "stderr",
     "output_type": "stream",
     "text": [
      "D:\\Soft\\Anaconda\\lib\\site-packages\\ipykernel_launcher.py:4: FutureWarning: \n",
      ".ix is deprecated. Please use\n",
      ".loc for label based indexing or\n",
      ".iloc for positional indexing\n",
      "\n",
      "See the documentation here:\n",
      "http://pandas.pydata.org/pandas-docs/stable/user_guide/indexing.html#ix-indexer-is-deprecated\n",
      "  after removing the cwd from sys.path.\n",
      "D:\\Soft\\Anaconda\\lib\\site-packages\\ipykernel_launcher.py:5: FutureWarning: \n",
      ".ix is deprecated. Please use\n",
      ".loc for label based indexing or\n",
      ".iloc for positional indexing\n",
      "\n",
      "See the documentation here:\n",
      "http://pandas.pydata.org/pandas-docs/stable/user_guide/indexing.html#ix-indexer-is-deprecated\n",
      "  \"\"\"\n"
     ]
    },
    {
     "data": {
      "image/png": "[encoded data removed]",
      "text/plain": [
       "<Figure size 432x288 with 1 Axes>"
      ]
     },
     "metadata": {
      "needs_background": "light"
     },
     "output_type": "display_data"
    }
   ],
   "source": [
    "# 画出轮廓分析图\n",
    "\n",
    "plt.figure()\n",
    "plt.plot(jia_data.ix['Mean'],marker='x',color='b',label='A')\n",
    "plt.plot(yi_data.ix['Mean'],marker='o',color='r',label='B')\n",
    "plt.ylabel('Sample Mean')\n",
    "plt.xlabel('Variable')\n",
    "plt.title('A and B sample plots')\n",
    "plt.legend(loc='best')\n",
    "plt.show()"
   ]
  },
  {
   "cell_type": "code",
   "execution_count": 5,
   "metadata": {},
   "outputs": [],
   "source": [
    "# 设置相应参数\n",
    "n1 = 5\n",
    "n2 = 5\n",
    "k = 4\n",
    "\n",
    "C = np.array([[1,-1,0,0,0],[0,1,-1,0,0],\n",
    "              [0,0,1,-1,0],[0,0,0,1,-1]])\n",
    "C = pd.DataFrame(C)"
   ]
  },
  {
   "cell_type": "code",
   "execution_count": 6,
   "metadata": {},
   "outputs": [
    {
     "name": "stderr",
     "output_type": "stream",
     "text": [
      "D:\\Soft\\Anaconda\\lib\\site-packages\\ipykernel_launcher.py:3: FutureWarning: \n",
      ".ix is deprecated. Please use\n",
      ".loc for label based indexing or\n",
      ".iloc for positional indexing\n",
      "\n",
      "See the documentation here:\n",
      "http://pandas.pydata.org/pandas-docs/stable/user_guide/indexing.html#ix-indexer-is-deprecated\n",
      "  This is separate from the ipykernel package so we can avoid doing imports until\n"
     ]
    },
    {
     "data": {
      "text/plain": [
       "I1   -4.0\n",
       "I2    2.6\n",
       "I3   -2.0\n",
       "I4   -4.0\n",
       "I5   -6.4\n",
       "Name: Mean, dtype: float64"
      ]
     },
     "execution_count": 6,
     "metadata": {},
     "output_type": "execute_result"
    }
   ],
   "source": [
    "#计算样本均值之差\n",
    "\n",
    "M = jia_data.ix['Mean'] - yi_data.ix['Mean']\n",
    "M"
   ]
  },
  {
   "cell_type": "code",
   "execution_count": 7,
   "metadata": {},
   "outputs": [
    {
     "data": {
      "text/html": [
       "<div>\n",
       "<style scoped>\n",
       "    .dataframe tbody tr th:only-of-type {\n",
       "        vertical-align: middle;\n",
       "    }\n",
       "\n",
       "    .dataframe tbody tr th {\n",
       "        vertical-align: top;\n",
       "    }\n",
       "\n",
       "    .dataframe thead th {\n",
       "        text-align: right;\n",
       "    }\n",
       "</style>\n",
       "<table border=\"1\" class=\"dataframe\">\n",
       "  <thead>\n",
       "    <tr style=\"text-align: right;\">\n",
       "      <th></th>\n",
       "      <th>I1</th>\n",
       "      <th>I2</th>\n",
       "      <th>I3</th>\n",
       "      <th>I4</th>\n",
       "      <th>I5</th>\n",
       "    </tr>\n",
       "  </thead>\n",
       "  <tbody>\n",
       "    <tr>\n",
       "      <td>I1</td>\n",
       "      <td>72.700</td>\n",
       "      <td>33.025</td>\n",
       "      <td>41.65</td>\n",
       "      <td>18.675</td>\n",
       "      <td>22.550</td>\n",
       "    </tr>\n",
       "    <tr>\n",
       "      <td>I2</td>\n",
       "      <td>33.025</td>\n",
       "      <td>21.250</td>\n",
       "      <td>21.30</td>\n",
       "      <td>12.725</td>\n",
       "      <td>14.675</td>\n",
       "    </tr>\n",
       "    <tr>\n",
       "      <td>I3</td>\n",
       "      <td>41.650</td>\n",
       "      <td>21.300</td>\n",
       "      <td>41.30</td>\n",
       "      <td>16.350</td>\n",
       "      <td>17.850</td>\n",
       "    </tr>\n",
       "    <tr>\n",
       "      <td>I4</td>\n",
       "      <td>18.675</td>\n",
       "      <td>12.725</td>\n",
       "      <td>16.35</td>\n",
       "      <td>11.450</td>\n",
       "      <td>13.700</td>\n",
       "    </tr>\n",
       "    <tr>\n",
       "      <td>I5</td>\n",
       "      <td>22.550</td>\n",
       "      <td>14.675</td>\n",
       "      <td>17.85</td>\n",
       "      <td>13.700</td>\n",
       "      <td>25.650</td>\n",
       "    </tr>\n",
       "  </tbody>\n",
       "</table>\n",
       "</div>"
      ],
      "text/plain": [
       "        I1      I2     I3      I4      I5\n",
       "I1  72.700  33.025  41.65  18.675  22.550\n",
       "I2  33.025  21.250  21.30  12.725  14.675\n",
       "I3  41.650  21.300  41.30  16.350  17.850\n",
       "I4  18.675  12.725  16.35  11.450  13.700\n",
       "I5  22.550  14.675  17.85  13.700  25.650"
      ]
     },
     "execution_count": 7,
     "metadata": {},
     "output_type": "execute_result"
    }
   ],
   "source": [
    "# 计算联合协方差\n",
    "\n",
    "S1 = jia_data.iloc[0:5,:].cov()\n",
    "S2 = yi_data.iloc[0:5,:].cov()\n",
    "Sp = ((n1-1)*S1+(n2-1)*S2) / (n1+n2-2)\n",
    "Sp"
   ]
  },
  {
   "cell_type": "code",
   "execution_count": 8,
   "metadata": {},
   "outputs": [
    {
     "data": {
      "text/plain": [
       "array([-6.6,  4.6,  2. ,  2.4])"
      ]
     },
     "execution_count": 8,
     "metadata": {},
     "output_type": "execute_result"
    }
   ],
   "source": [
    "# 计算C(X_ba_jia - X_ba_yi)\n",
    "\n",
    "A = np.array(C) @ np.array(M)\n",
    "A"
   ]
  },
  {
   "cell_type": "code",
   "execution_count": 9,
   "metadata": {},
   "outputs": [
    {
     "data": {
      "text/plain": [
       "array([[ 27.9  ,  -8.575,  14.4  ,  -1.925],\n",
       "       [ -8.575,  19.95 , -16.375,  -0.45 ],\n",
       "       [ 14.4  , -16.375,  20.05 ,   0.75 ],\n",
       "       [ -1.925,  -0.45 ,   0.75 ,   9.7  ]])"
      ]
     },
     "execution_count": 9,
     "metadata": {},
     "output_type": "execute_result"
    }
   ],
   "source": [
    "# 计算CSpC'\n",
    "\n",
    "B = np.array(C) @ np.array(Sp) @ np.array(C).T \n",
    "B"
   ]
  },
  {
   "cell_type": "code",
   "execution_count": 10,
   "metadata": {},
   "outputs": [
    {
     "data": {
      "text/plain": [
       "array([[ 0.06516278, -0.03198824, -0.07356626,  0.01713591],\n",
       "       [-0.03198824,  0.16782494,  0.16044839, -0.01096829],\n",
       "       [-0.07356626,  0.16044839,  0.23469693, -0.02530268],\n",
       "       [ 0.01713591, -0.01096829, -0.02530268,  0.10794102]])"
      ]
     },
     "execution_count": 10,
     "metadata": {},
     "output_type": "execute_result"
    }
   ],
   "source": [
    "# 对上一步求逆\n",
    "\n",
    "D = np.linalg.inv(B)\n",
    "D"
   ]
  },
  {
   "cell_type": "code",
   "execution_count": 11,
   "metadata": {},
   "outputs": [
    {
     "data": {
      "text/plain": [
       "34.39742209627308"
      ]
     },
     "execution_count": 11,
     "metadata": {},
     "output_type": "execute_result"
    }
   ],
   "source": [
    "#计算霍特林统计量\n",
    "\n",
    "T2 = ((n1*n2)/(n1+n2)) * np.array(M).T @ np.array(C).T @ D @ A\n",
    "T2"
   ]
  },
  {
   "cell_type": "code",
   "execution_count": 12,
   "metadata": {},
   "outputs": [
    {
     "data": {
      "text/plain": [
       "5.374597202542669"
      ]
     },
     "execution_count": 12,
     "metadata": {},
     "output_type": "execute_result"
    }
   ],
   "source": [
    "# 计算相应的F统计量\n",
    "\n",
    "F = (n1+n2-k-1)/(k*(n1+n2-2)) * T2\n",
    "F"
   ]
  },
  {
   "cell_type": "code",
   "execution_count": 13,
   "metadata": {},
   "outputs": [
    {
     "data": {
      "text/plain": [
       "0.04683509379370798"
      ]
     },
     "execution_count": 13,
     "metadata": {},
     "output_type": "execute_result"
    }
   ],
   "source": [
    "#计算相应的p值\n",
    "\n",
    "from scipy.stats import f\n",
    "p_value = f.sf(F,k,n1)\n",
    "p_value"
   ]
  },
  {
   "cell_type": "code",
   "execution_count": null,
   "metadata": {
    "collapsed": true,
    "jupyter": {
     "outputs_hidden": true
    }
   },
   "outputs": [],
   "source": []
  }
 ],
 "metadata": {
  "kernelspec": {
   "display_name": "Python 3",
   "language": "python",
   "name": "python3"
  },
  "language_info": {
   "codemirror_mode": {
    "name": "ipython",
    "version": 3
   },
   "file_extension": ".py",
   "mimetype": "text/x-python",
   "name": "python",
   "nbconvert_exporter": "python",
   "pygments_lexer": "ipython3",
   "version": "3.7.4"
  }
 },
 "nbformat": 4,
 "nbformat_minor": 4
}
