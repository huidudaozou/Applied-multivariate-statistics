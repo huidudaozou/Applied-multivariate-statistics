{
 "cells": [
  {
   "cell_type": "markdown",
   "metadata": {},
   "source": [
    "#### 4.1 人的出汗多少与人体内钠和钾的含量有一定的联系。今测了20名健康的成年女性的出汗量x1、钠的含量x2和钾的含量x3，其数据列于下表，假定 x = (x1、x2、x3)'服从三元正态分布。 "
   ]
  },
  {
   "cell_type": "code",
   "execution_count": 1,
   "metadata": {
    "collapsed": true
   },
   "outputs": [],
   "source": [
    "import numpy as np\n",
    "import pandas as pd\n",
    "from scipy.stats import f\n",
    "from scipy.stats import t"
   ]
  },
  {
   "cell_type": "code",
   "execution_count": 2,
   "metadata": {},
   "outputs": [
    {
     "name": "stdout",
     "output_type": "stream",
     "text": [
      "     x1    x2    x3\n",
      "1   3.7  48.5   9.3\n",
      "2   5.7  65.1   8.0\n",
      "3   3.8  47.2  10.9\n",
      "4   3.2  53.2  12.0\n",
      "5   3.1  55.5   9.7\n",
      "6   4.6  36.1   7.9\n",
      "7   2.4  24.8  14.0\n",
      "8   7.2  33.1   7.6\n",
      "9   6.7  47.4   8.5\n",
      "10  5.4  54.1  11.3\n",
      "11  3.9  36.9  12.7\n",
      "12  4.5  58.8  12.3\n",
      "13  3.5  27.8   9.8\n",
      "14  4.5  40.2   8.4\n",
      "15  1.5  13.5  10.1\n",
      "16  8.5  56.4   7.1\n",
      "17  4.5  71.6   8.2\n",
      "18  6.5  52.8  10.9\n",
      "19  4.1  44.1  11.2\n",
      "20  5.5  40.9   9.4\n"
     ]
    }
   ],
   "source": [
    "# 写入数据\n",
    "raw_data = np.array([[3.7,48.5,9.3],[5.7,65.1,8.0],[3.8,47.2,10.9],\n",
    "                     [3.2,53.2,12.0],[3.1,55.5,9.7],[4.6,36.1,7.9],\n",
    "                    [2.4,24.8,14.0],[7.2,33.1,7.6],[6.7,47.4,8.5],\n",
    "                    [5.4,54.1,11.3],[3.9,36.9,12.7],[4.5,58.8,12.3],\n",
    "                    [3.5,27.8,9.8],[4.5,40.2,8.4],[1.5,13.5,10.1],\n",
    "                    [8.5,56.4,7.1],[4.5,71.6,8.2],[6.5,52.8,10.9],\n",
    "                    [4.1,44.1,11.2],[5.5,40.9,9.4]])\n",
    "data = pd.DataFrame(raw_data,columns=['x1','x2','x3'],index=np.arange(20)+1)\n",
    "print(data)"
   ]
  },
  {
   "cell_type": "markdown",
   "metadata": {},
   "source": [
    "#### (1)试检验 Ho:μ=μo=(4,50,10)',H1:μ≠μo"
   ]
  },
  {
   "cell_type": "code",
   "execution_count": 3,
   "metadata": {},
   "outputs": [
    {
     "name": "stdout",
     "output_type": "stream",
     "text": [
      "计算出来的p值：P-value= 0.06492833538052939\n"
     ]
    }
   ],
   "source": [
    "miu_0 = pd.Series([4,50,10],index=['x1','x2','x3'])\n",
    "x_ba = data.mean()   #计算样本均值\n",
    "s = data.cov()      #计算样本协方差矩阵\n",
    "n = len(data['x1'])  #计算样本量\n",
    "p = len(data.columns)  #计算数据维度\n",
    "\n",
    "T_2 = n * np.array((x_ba-miu_0)).T @ np.linalg.inv(s) @ np.array((x_ba-miu_0)) #计算霍特林统计量\n",
    "\n",
    "f_value = (n-p)/(p*(n-1)) * T_2  #计算相应的F分布的分位数\n",
    "p_value = f.sf(f_value,p,n-p)    #计算相对应的P值\n",
    "print('计算出来的p值：P-value=',p_value)"
   ]
  },
  {
   "cell_type": "markdown",
   "metadata": {},
   "source": [
    "#### (2)试求μ的0.95置信区间  "
   ]
  },
  {
   "cell_type": "code",
   "execution_count": 4,
   "metadata": {},
   "outputs": [
    {
     "data": {
      "text/plain": [
       "10.718604701986504"
      ]
     },
     "execution_count": 4,
     "metadata": {},
     "output_type": "execute_result"
    }
   ],
   "source": [
    "# 计算在置信度0.05，自由度为(p,n-1)霍特林统计量的值\n",
    "T2 = (p*(n-1)) / (n-p) * f.ppf(0.95,p,n-p)\n",
    "T2"
   ]
  },
  {
   "cell_type": "code",
   "execution_count": 5,
   "metadata": {
    "collapsed": true
   },
   "outputs": [],
   "source": [
    "# 因此μ在0.05的置信度条件下的置信椭球为：\n",
    "# n * np.array((x_ba-miu_0)).T @ np.linalg.inv(s) @ np.array((x_ba-miu_0)) <= T2"
   ]
  },
  {
   "cell_type": "markdown",
   "metadata": {},
   "source": [
    "#### (3)试求μ1、μ2、μ3的0.95联合T2置信区间和0.95邦弗伦尼联合置信区间，并对这两种区间进行比较。"
   ]
  },
  {
   "cell_type": "code",
   "execution_count": 6,
   "metadata": {},
   "outputs": [
    {
     "name": "stdout",
     "output_type": "stream",
     "text": [
      "μ1联合T2置信区间: (2.75776789816383, 5.24223210183617)\n",
      "μ2联合T2置信区间: (39.65240822872975, 60.34759177127025)\n",
      "μ3联合T2置信区间: (8.605664477829587, 11.394335522170413)\n"
     ]
    }
   ],
   "source": [
    "# 联合T2置信区间\n",
    "\n",
    "μ1_up = miu_0[0] + np.sqrt(T2) * np.sqrt(s.iloc[0][0]/n)\n",
    "μ1_down = miu_0[0] - np.sqrt(T2) * np.sqrt(s.iloc[0][0]/n)\n",
    "μ1 = (μ1_down,μ1_up)\n",
    "\n",
    "μ2_up = miu_0[1] + np.sqrt(T2) * np.sqrt(s.iloc[1][1]/n)\n",
    "μ2_down = miu_0[1] - np.sqrt(T2) * np.sqrt(s.iloc[1][1]/n)\n",
    "μ2 = (μ2_down,μ2_up)\n",
    "\n",
    "μ3_up = miu_0[2] + np.sqrt(T2) * np.sqrt(s.iloc[2][2]/n)\n",
    "μ3_down = miu_0[2] - np.sqrt(T2) * np.sqrt(s.iloc[2][2]/n)\n",
    "μ3 = (μ3_down,μ3_up)\n",
    "\n",
    "print(\"μ1联合T2置信区间:\",μ1)\n",
    "print(\"μ2联合T2置信区间:\",μ2)\n",
    "print(\"μ3联合T2置信区间:\",μ3)"
   ]
  },
  {
   "cell_type": "code",
   "execution_count": 7,
   "metadata": {},
   "outputs": [
    {
     "name": "stdout",
     "output_type": "stream",
     "text": [
      "μ1邦弗伦尼联合置信区间: (3.0039515796079197, 4.99604842039208)\n",
      "μ2邦弗伦尼联合置信区间: (41.703078335037986, 58.296921664962014)\n",
      "μ3邦弗伦尼联合置信区间: (8.881991785350296, 11.118008214649704)\n"
     ]
    }
   ],
   "source": [
    "# 邦弗伦尼联合置信区间\n",
    "\n",
    "#先计算t分位数\n",
    "t_value = t.ppf(1-0.05/(2*p),n-1)\n",
    "\n",
    "#计算联合置信区间\n",
    "μ1_up = miu_0[0] + t_value * np.sqrt(s.iloc[0][0]/n)\n",
    "μ1_down = miu_0[0] - t_value * np.sqrt(s.iloc[0][0]/n)\n",
    "μ1 = (μ1_down,μ1_up)\n",
    "\n",
    "μ2_up = miu_0[1] + t_value * np.sqrt(s.iloc[1][1]/n)\n",
    "μ2_down = miu_0[1] - t_value * np.sqrt(s.iloc[1][1]/n)\n",
    "μ2 = (μ2_down,μ2_up)\n",
    "\n",
    "μ3_up = miu_0[2] + t_value * np.sqrt(s.iloc[2][2]/n)\n",
    "μ3_down = miu_0[2] - t_value * np.sqrt(s.iloc[2][2]/n)\n",
    "μ3 = (μ3_down,μ3_up)\n",
    "\n",
    "print(\"μ1邦弗伦尼联合置信区间:\",μ1)\n",
    "print(\"μ2邦弗伦尼联合置信区间:\",μ2)\n",
    "print(\"μ3邦弗伦尼联合置信区间:\",μ3)"
   ]
  },
  {
   "cell_type": "code",
   "execution_count": 8,
   "metadata": {
    "collapsed": true
   },
   "outputs": [],
   "source": [
    "# 综上可知，邦弗伦尼联合置信区间更小"
   ]
  },
  {
   "cell_type": "code",
   "execution_count": null,
   "metadata": {
    "collapsed": true
   },
   "outputs": [],
   "source": []
  },
  {
   "cell_type": "code",
   "execution_count": null,
   "metadata": {
    "collapsed": true
   },
   "outputs": [],
   "source": []
  }
 ],
 "metadata": {
  "kernelspec": {
   "display_name": "Python 3",
   "language": "python",
   "name": "python3"
  },
  "language_info": {
   "codemirror_mode": {
    "name": "ipython",
    "version": 3
   },
   "file_extension": ".py",
   "mimetype": "text/x-python",
   "name": "python",
   "nbconvert_exporter": "python",
   "pygments_lexer": "ipython3",
   "version": "3.6.3"
  }
 },
 "nbformat": 4,
 "nbformat_minor": 2
}
