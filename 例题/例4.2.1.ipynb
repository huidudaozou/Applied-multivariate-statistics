{
 "cells": [
  {
   "cell_type": "code",
   "execution_count": 1,
   "metadata": {
    "collapsed": true
   },
   "outputs": [],
   "source": [
    "import numpy as np\n",
    "import pandas as pd\n",
    "from scipy.stats import f\n",
    "# Numpy为数组矩阵运算库，pandas相当于python里面的excel，scipy.stats是统计学库"
   ]
  },
  {
   "cell_type": "code",
   "execution_count": 2,
   "metadata": {},
   "outputs": [
    {
     "name": "stdout",
     "output_type": "stream",
     "text": [
      "总体均值为:\n",
      " 身高      90\n",
      "胸围      58\n",
      "上半臀围    16\n",
      "dtype: int32\n",
      "------------------\n",
      "样本数据为:\n",
      "      身高    胸围  上半臀围\n",
      "0  78.0  60.6  16.5\n",
      "1  76.0  58.1  12.5\n",
      "2  92.0  63.2  14.5\n",
      "3  81.0  59.0  14.0\n",
      "4  81.0  60.8  15.5\n",
      "5  84.0  59.5  14.0\n",
      "------------------\n"
     ]
    }
   ],
   "source": [
    "# 写入数据\n",
    "# 下标0表示城市男婴，下标1表示农村男婴\n",
    "\n",
    "mu_0 = np.array([90,58,16]) #读取为array数组\n",
    "mu_0 = pd.Series(mu_0,index=['身高','胸围','上半臀围']) # 将array数组\n",
    "x_1_data = np.array([[78,60.6,16.5],[76,58.1,12.5],[92,63.2,14.5],[81,59,14],[81,60.8,15.5],[84,59.5,14]])\n",
    "x_1_data = pd.DataFrame(x_1_data,columns=['身高','胸围','上半臀围'])\n",
    "print('总体均值为:\\n',mu_0)\n",
    "print('------------------')\n",
    "print('样本数据为:\\n', x_1_data)\n",
    "print('------------------')"
   ]
  },
  {
   "cell_type": "code",
   "execution_count": 3,
   "metadata": {},
   "outputs": [
    {
     "name": "stdout",
     "output_type": "stream",
     "text": [
      "样本均值为：\n",
      " 身高      82.0\n",
      "胸围      60.2\n",
      "上半臀围    14.5\n",
      "dtype: float64\n",
      "------------------\n"
     ]
    }
   ],
   "source": [
    "# 计算样本均值\n",
    "x_ba = x_1_data.mean()\n",
    "print('样本均值为：\\n',x_ba)\n",
    "print('------------------')"
   ]
  },
  {
   "cell_type": "code",
   "execution_count": 4,
   "metadata": {},
   "outputs": [
    {
     "name": "stdout",
     "output_type": "stream",
     "text": [
      "样本协方差矩阵为：\n",
      "          身高     胸围  上半臀围\n",
      "身高    31.60  8.040  0.50\n",
      "胸围     8.04  3.172  1.31\n",
      "上半臀围   0.50  1.310  1.90\n",
      "------------------\n"
     ]
    }
   ],
   "source": [
    "# 计算协方差矩阵\n",
    "S = x_1_data.cov()\n",
    "print('样本协方差矩阵为：\\n',S)\n",
    "print('------------------')"
   ]
  },
  {
   "cell_type": "code",
   "execution_count": 5,
   "metadata": {},
   "outputs": [
    {
     "name": "stdout",
     "output_type": "stream",
     "text": [
      "霍特林统计量为： 420.44466187925707\n",
      "------------------\n"
     ]
    }
   ],
   "source": [
    "# 计算霍特林统计量\n",
    "n = 6\n",
    "p = 3\n",
    "T_2 = n * np.array((x_ba - mu_0)).T @ np.linalg.inv(S) @ np.array((x_ba - mu_0))\n",
    "print('霍特林统计量为：',T_2)\n",
    "print('------------------')"
   ]
  },
  {
   "cell_type": "code",
   "execution_count": 6,
   "metadata": {},
   "outputs": [
    {
     "name": "stdout",
     "output_type": "stream",
     "text": [
      "p-value: 0.002155272045932368\n"
     ]
    }
   ],
   "source": [
    "f_value = (n-p)/(p*(n-1)) * T_2\n",
    "p_value = f.sf(f_value, p, n-p )\n",
    "print('p-value:',p_value)"
   ]
  },
  {
   "cell_type": "code",
   "execution_count": 13,
   "metadata": {},
   "outputs": [
    {
     "name": "stdout",
     "output_type": "stream",
     "text": [
      "总体均值为:\n",
      " 身高      90\n",
      "胸围      58\n",
      "上半臀围    16\n",
      "dtype: int32\n",
      "------------------\n",
      "样本数据为:\n",
      "      身高    胸围  上半臀围\n",
      "0  78.0  60.6  16.5\n",
      "1  76.0  58.1  12.5\n",
      "2  92.0  63.2  14.5\n",
      "3  81.0  59.0  14.0\n",
      "4  81.0  60.8  15.5\n",
      "5  84.0  59.5  14.0\n",
      "------------------\n",
      "样本均值为：\n",
      " 身高      82.0\n",
      "胸围      60.2\n",
      "上半臀围    14.5\n",
      "dtype: float64\n",
      "------------------\n",
      "样本协方差矩阵为：\n",
      "          身高     胸围  上半臀围\n",
      "身高    31.60  8.040  0.50\n",
      "胸围     8.04  3.172  1.31\n",
      "上半臀围   0.50  1.310  1.90\n",
      "------------------\n",
      "霍特林统计量为： 420.44466187925707\n",
      "------------------\n",
      "p-value: 0.002155272045932368\n"
     ]
    }
   ],
   "source": [
    "import numpy as np\n",
    "import pandas as pd\n",
    "from scipy.stats import f\n",
    "# Numpy为数组矩阵运算库，pandas相当于python里面的excel，scipy.stats是统计学库\n",
    "\n",
    "mu_0 = np.array([90,58,16]) #读取为array数组\n",
    "mu_0 = pd.Series(mu_0,index=['身高','胸围','上半臀围']) #将array数组转换成pd.Series数据\n",
    "x_1_data = np.array([[78,60.6,16.5],[76,58.1,12.5],[92,63.2,14.5],[81,59,14],[81,60.8,15.5],[84,59.5,14]])\n",
    "x_1_data = pd.DataFrame(x_1_data,columns=['身高','胸围','上半臀围']) #将array数组转换成pd.dataframe\n",
    "print('总体均值为:\\n',mu_0)\n",
    "print('------------------')\n",
    "print('样本数据为:\\n', x_1_data)\n",
    "print('------------------')\n",
    "x_ba = x_1_data.mean() # 计算样本均值\n",
    "print('样本均值为：\\n',x_ba)\n",
    "print('------------------')\n",
    "S = x_1_data.cov() #计算样本协方差\n",
    "print('样本协方差矩阵为：\\n',S)\n",
    "print('------------------')\n",
    "n = 6\n",
    "p = 3\n",
    "T_2 = n * np.array((x_ba - mu_0)).T @ np.linalg.inv(S) @ np.array((x_ba - mu_0)) #因为计算霍特林统计量为矩阵运算，又将数据转化为np.array\n",
    "print('霍特林统计量为：',T_2)\n",
    "print('------------------')\n",
    "f_value = (n-p)/(p*(n-1)) * T_2 #计算分位数\n",
    "p_value = f.sf(f_value, 3, 3) #计算p值\n",
    "print('p-value:',p_value)"
   ]
  },
  {
   "cell_type": "code",
   "execution_count": null,
   "metadata": {
    "collapsed": true
   },
   "outputs": [],
   "source": []
  }
 ],
 "metadata": {
  "kernelspec": {
   "display_name": "Python 3",
   "language": "python",
   "name": "python3"
  },
  "language_info": {
   "codemirror_mode": {
    "name": "ipython",
    "version": 3
   },
   "file_extension": ".py",
   "mimetype": "text/x-python",
   "name": "python",
   "nbconvert_exporter": "python",
   "pygments_lexer": "ipython3",
   "version": "3.6.3"
  }
 },
 "nbformat": 4,
 "nbformat_minor": 2
}
